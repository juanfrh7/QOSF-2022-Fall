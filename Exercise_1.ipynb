{
  "nbformat": 4,
  "nbformat_minor": 0,
  "metadata": {
    "colab": {
      "provenance": []
    },
    "kernelspec": {
      "name": "python3",
      "display_name": "Python 3"
    },
    "language_info": {
      "name": "python"
    }
  },
  "cells": [
    {
      "cell_type": "markdown",
      "source": [
        "#Imports"
      ],
      "metadata": {
        "id": "IcKBKAyju7qj"
      }
    },
    {
      "cell_type": "code",
      "source": [
        "!pip install qiskit"
      ],
      "metadata": {
        "colab": {
          "base_uri": "https://localhost:8080/"
        },
        "id": "-JUeg49WgqKO",
        "outputId": "2537f030-ef49-478b-c8aa-c9293ef51887"
      },
      "execution_count": 2,
      "outputs": [
        {
          "output_type": "stream",
          "name": "stdout",
          "text": [
            "Looking in indexes: https://pypi.org/simple, https://us-python.pkg.dev/colab-wheels/public/simple/\n",
            "Collecting qiskit\n",
            "  Downloading qiskit-0.39.0.tar.gz (13 kB)\n",
            "Collecting qiskit-terra==0.22.0\n",
            "  Downloading qiskit_terra-0.22.0-cp37-cp37m-manylinux_2_17_x86_64.manylinux2014_x86_64.whl (4.7 MB)\n",
            "\u001b[K     |████████████████████████████████| 4.7 MB 15.3 MB/s \n",
            "\u001b[?25hCollecting qiskit-aer==0.11.0\n",
            "  Downloading qiskit_aer-0.11.0-cp37-cp37m-manylinux_2_17_x86_64.manylinux2014_x86_64.whl (19.2 MB)\n",
            "\u001b[K     |████████████████████████████████| 19.2 MB 1.3 MB/s \n",
            "\u001b[?25hCollecting qiskit-ibmq-provider==0.19.2\n",
            "  Downloading qiskit_ibmq_provider-0.19.2-py3-none-any.whl (240 kB)\n",
            "\u001b[K     |████████████████████████████████| 240 kB 59.9 MB/s \n",
            "\u001b[?25hRequirement already satisfied: scipy>=1.0 in /usr/local/lib/python3.7/dist-packages (from qiskit-aer==0.11.0->qiskit) (1.7.3)\n",
            "Requirement already satisfied: numpy>=1.16.3 in /usr/local/lib/python3.7/dist-packages (from qiskit-aer==0.11.0->qiskit) (1.21.6)\n",
            "Collecting websockets>=10.0\n",
            "  Downloading websockets-10.3-cp37-cp37m-manylinux_2_5_x86_64.manylinux1_x86_64.manylinux_2_12_x86_64.manylinux2010_x86_64.whl (112 kB)\n",
            "\u001b[K     |████████████████████████████████| 112 kB 59.6 MB/s \n",
            "\u001b[?25hRequirement already satisfied: urllib3>=1.21.1 in /usr/local/lib/python3.7/dist-packages (from qiskit-ibmq-provider==0.19.2->qiskit) (1.24.3)\n",
            "Collecting websocket-client>=1.0.1\n",
            "  Downloading websocket_client-1.4.1-py3-none-any.whl (55 kB)\n",
            "\u001b[K     |████████████████████████████████| 55 kB 3.1 MB/s \n",
            "\u001b[?25hCollecting requests-ntlm>=1.1.0\n",
            "  Downloading requests_ntlm-1.1.0-py2.py3-none-any.whl (5.7 kB)\n",
            "Requirement already satisfied: python-dateutil>=2.8.0 in /usr/local/lib/python3.7/dist-packages (from qiskit-ibmq-provider==0.19.2->qiskit) (2.8.2)\n",
            "Requirement already satisfied: requests>=2.19 in /usr/local/lib/python3.7/dist-packages (from qiskit-ibmq-provider==0.19.2->qiskit) (2.23.0)\n",
            "Collecting ply>=3.10\n",
            "  Downloading ply-3.11-py2.py3-none-any.whl (49 kB)\n",
            "\u001b[K     |████████████████████████████████| 49 kB 6.3 MB/s \n",
            "\u001b[?25hCollecting stevedore>=3.0.0\n",
            "  Downloading stevedore-3.5.1-py3-none-any.whl (50 kB)\n",
            "\u001b[K     |████████████████████████████████| 50 kB 7.2 MB/s \n",
            "\u001b[?25hRequirement already satisfied: importlib-metadata<5.0 in /usr/local/lib/python3.7/dist-packages (from qiskit-terra==0.22.0->qiskit) (4.13.0)\n",
            "Collecting tweedledum<2.0,>=1.1\n",
            "  Downloading tweedledum-1.1.1-cp37-cp37m-manylinux_2_12_x86_64.manylinux2010_x86_64.whl (943 kB)\n",
            "\u001b[K     |████████████████████████████████| 943 kB 46.3 MB/s \n",
            "\u001b[?25hCollecting shared-memory38\n",
            "  Downloading shared_memory38-0.1.2-cp37-cp37m-manylinux_2_5_x86_64.manylinux1_x86_64.whl (25 kB)\n",
            "Requirement already satisfied: sympy>=1.3 in /usr/local/lib/python3.7/dist-packages (from qiskit-terra==0.22.0->qiskit) (1.7.1)\n",
            "Requirement already satisfied: dill>=0.3 in /usr/local/lib/python3.7/dist-packages (from qiskit-terra==0.22.0->qiskit) (0.3.5.1)\n",
            "Requirement already satisfied: typing-extensions in /usr/local/lib/python3.7/dist-packages (from qiskit-terra==0.22.0->qiskit) (4.1.1)\n",
            "Requirement already satisfied: psutil>=5 in /usr/local/lib/python3.7/dist-packages (from qiskit-terra==0.22.0->qiskit) (5.4.8)\n",
            "Collecting retworkx>=0.11.0\n",
            "  Downloading retworkx-0.12.0-py3-none-any.whl (10 kB)\n",
            "Collecting symengine>=0.9\n",
            "  Downloading symengine-0.9.2-cp37-cp37m-manylinux2010_x86_64.whl (37.5 MB)\n",
            "\u001b[K     |████████████████████████████████| 37.5 MB 1.2 MB/s \n",
            "\u001b[?25hRequirement already satisfied: zipp>=0.5 in /usr/local/lib/python3.7/dist-packages (from importlib-metadata<5.0->qiskit-terra==0.22.0->qiskit) (3.9.0)\n",
            "Requirement already satisfied: six>=1.5 in /usr/local/lib/python3.7/dist-packages (from python-dateutil>=2.8.0->qiskit-ibmq-provider==0.19.2->qiskit) (1.15.0)\n",
            "Requirement already satisfied: certifi>=2017.4.17 in /usr/local/lib/python3.7/dist-packages (from requests>=2.19->qiskit-ibmq-provider==0.19.2->qiskit) (2022.9.24)\n",
            "Requirement already satisfied: idna<3,>=2.5 in /usr/local/lib/python3.7/dist-packages (from requests>=2.19->qiskit-ibmq-provider==0.19.2->qiskit) (2.10)\n",
            "Requirement already satisfied: chardet<4,>=3.0.2 in /usr/local/lib/python3.7/dist-packages (from requests>=2.19->qiskit-ibmq-provider==0.19.2->qiskit) (3.0.4)\n",
            "Collecting cryptography>=1.3\n",
            "  Downloading cryptography-38.0.1-cp36-abi3-manylinux_2_24_x86_64.whl (4.0 MB)\n",
            "\u001b[K     |████████████████████████████████| 4.0 MB 48.7 MB/s \n",
            "\u001b[?25hCollecting ntlm-auth>=1.0.2\n",
            "  Downloading ntlm_auth-1.5.0-py2.py3-none-any.whl (29 kB)\n",
            "Requirement already satisfied: cffi>=1.12 in /usr/local/lib/python3.7/dist-packages (from cryptography>=1.3->requests-ntlm>=1.1.0->qiskit-ibmq-provider==0.19.2->qiskit) (1.15.1)\n",
            "Requirement already satisfied: pycparser in /usr/local/lib/python3.7/dist-packages (from cffi>=1.12->cryptography>=1.3->requests-ntlm>=1.1.0->qiskit-ibmq-provider==0.19.2->qiskit) (2.21)\n",
            "Collecting rustworkx==0.12.0\n",
            "  Downloading rustworkx-0.12.0-cp37-cp37m-manylinux_2_17_x86_64.manylinux2014_x86_64.whl (1.9 MB)\n",
            "\u001b[K     |████████████████████████████████| 1.9 MB 52.5 MB/s \n",
            "\u001b[?25hCollecting pbr!=2.1.0,>=2.0.0\n",
            "  Downloading pbr-5.10.0-py2.py3-none-any.whl (112 kB)\n",
            "\u001b[K     |████████████████████████████████| 112 kB 64.1 MB/s \n",
            "\u001b[?25hRequirement already satisfied: mpmath>=0.19 in /usr/local/lib/python3.7/dist-packages (from sympy>=1.3->qiskit-terra==0.22.0->qiskit) (1.2.1)\n",
            "Building wheels for collected packages: qiskit\n",
            "  Building wheel for qiskit (setup.py) ... \u001b[?25l\u001b[?25hdone\n",
            "  Created wheel for qiskit: filename=qiskit-0.39.0-py3-none-any.whl size=12188 sha256=d590079cddf343cdb9b1c3c46a7b830aed4ecb266df0d91da2c37bc446eef784\n",
            "  Stored in directory: /root/.cache/pip/wheels/63/d0/9a/257143dfc211b1732e1dadf41f281d477251d9cc0108a6f209\n",
            "Successfully built qiskit\n",
            "Installing collected packages: rustworkx, pbr, tweedledum, symengine, stevedore, shared-memory38, retworkx, ply, ntlm-auth, cryptography, websockets, websocket-client, requests-ntlm, qiskit-terra, qiskit-ibmq-provider, qiskit-aer, qiskit\n",
            "Successfully installed cryptography-38.0.1 ntlm-auth-1.5.0 pbr-5.10.0 ply-3.11 qiskit-0.39.0 qiskit-aer-0.11.0 qiskit-ibmq-provider-0.19.2 qiskit-terra-0.22.0 requests-ntlm-1.1.0 retworkx-0.12.0 rustworkx-0.12.0 shared-memory38-0.1.2 stevedore-3.5.1 symengine-0.9.2 tweedledum-1.1.1 websocket-client-1.4.1 websockets-10.3\n"
          ]
        }
      ]
    },
    {
      "cell_type": "code",
      "source": [
        "#import qiskit\n",
        "import qiskit\n",
        "from qiskit import QuantumCircuit, QuantumRegister, ClassicalRegister, execute, Aer\n",
        "\n",
        "#import numpy\n",
        "import numpy as np"
      ],
      "metadata": {
        "id": "x-ElHHd0u6UC"
      },
      "execution_count": 3,
      "outputs": []
    },
    {
      "cell_type": "markdown",
      "source": [
        "# Exercise 1: multipliers"
      ],
      "metadata": {
        "id": "aVNixm4EeZJT"
      }
    },
    {
      "cell_type": "markdown",
      "source": [
        "We are going to tackle this multiplication algorithm as a repeated addition problem. The steps for the implementation of this algorithm would be:\n",
        "\n",
        "- Represent the multplier and multiplicand as quantum states. \n",
        "- Create a bitsring 0 called the accumulator. \n",
        "- Add the multiplier to the accumulator.\n",
        "- Decrement the multiplier by one.\n",
        "- Repeat until the multiplier is 0.\n",
        "- Measure the final output (accumulator).\n",
        "\n",
        "For this problem, we will employ quantum fourier addition and substraction."
      ],
      "metadata": {
        "id": "g6pXjB_YYIXI"
      }
    },
    {
      "cell_type": "markdown",
      "source": [
        "1. The first step is to get the multiplicand and multiplier as a bit string. Numbers should be less than 9 digits as the IBM simulator only supports up to 32 qubits. If we assume that n is the length of both the numbers we want to add:\n",
        "- n qubits to store the multiplier.\n",
        "- n qubits to store the multiplicand.\n",
        "- 2n qubits to store the accumulator.\n",
        "- We need 2n classical bits to store the final results.\n",
        "Therefore we have 5n qubits that we want to fit into 32, hence the maximum we can calculate is a 6-digits number. "
      ],
      "metadata": {
        "id": "V69PeIOKeqbY"
      }
    },
    {
      "cell_type": "code",
      "source": [
        "def convert_to_bitstring(int1, int2):\n",
        "  \"\"\"Converts two integer to bitstring format of same length\"\"\"\n",
        "\n",
        "  #convert integers to bitstrings\n",
        "  num1 = str(format(int1, \"b\"))\n",
        "  num2 = str(format(int2, \"b\"))\n",
        "\n",
        "  len1 = len(num1)\n",
        "  len2 = len(num2)\n",
        "\n",
        "  if len1 > 6 or len2 > 6:\n",
        "    raise ValueError('The length of the integers in bit format should be less than 6 digits.')\n",
        "\n",
        "  #check if both numbers have the same length\n",
        "  #otherwise fill with zeros\n",
        "\n",
        "  if len1>len2:\n",
        "    num2= '0'*(len1-len2) + num2\n",
        "  else:\n",
        "    num1= '0'*(len2-len1) + num1\n",
        "\n",
        "  return num1, num2"
      ],
      "metadata": {
        "id": "5rDJcoDoeudA"
      },
      "execution_count": 5,
      "outputs": []
    },
    {
      "cell_type": "markdown",
      "source": [
        "2. Store numbers in quantum states."
      ],
      "metadata": {
        "id": "zpwhClONtRcx"
      }
    },
    {
      "cell_type": "code",
      "source": [
        "def bitstring_to_quantum_state(qc, qr, bitstring):\n",
        "  \"\"\"Convert bitstring to quantum state\"\"\"\n",
        "  n = len(bitstring)\n",
        "  for i in range(n):\n",
        "    if bitstring[i] == \"1\":\n",
        "        qc.x(qr[n-(i+1)])"
      ],
      "metadata": {
        "id": "nUqM8FSaslTA"
      },
      "execution_count": 6,
      "outputs": []
    },
    {
      "cell_type": "markdown",
      "source": [
        "3. Add multiplicand to the accumulator using addition. We are going to use quantum Fourier addition."
      ],
      "metadata": {
        "id": "RJoYTKleuIhl"
      }
    },
    {
      "cell_type": "code",
      "source": [
        "def QFT(qc, n, q_reg1):\n",
        "  \"\"\"Function that performs QFT to an n quantum register \n",
        "  by applying repeated rotations and hadamard gates\"\"\"\n",
        "\n",
        "  qc.h(q_reg1[n]) #hadamard gates at the beginning of each qubit rotations\n",
        "\n",
        "  #apply rotations\n",
        "  for i in range(n):\n",
        "    rotation =  np.pi / (2**(i+1))\n",
        "    qc.cu1(rotation, q_reg1[n-(i+1)], q_reg1[n])\n"
      ],
      "metadata": {
        "id": "4SkBoKylyC-W"
      },
      "execution_count": 7,
      "outputs": []
    },
    {
      "cell_type": "code",
      "source": [
        "def modular_addition_substraction(qc, n , q_reg1, q_reg2, sign):\n",
        "  \"\"\"Evolves the quantum circuit to perform quantum Fourier \n",
        "  addition and substraction by applying repeated rotations\"\"\"\n",
        "\n",
        "  N = q_reg1.size   #size of first register\n",
        "  l = q_reg2.size   #size of second register\n",
        "\n",
        "  #apply rotations\n",
        "  for i in range(l):\n",
        "    if n - l +1 >= 0:\n",
        "      rotation = np.pi / (2**(n-l+i+1))\n",
        "    \n",
        "    if n - l + 1 < 0:\n",
        "      #condition for registers with different sizes\n",
        "      if n - i < 0:\n",
        "        break\n",
        "      else: \n",
        "        rotation = np.pi / (2**i)\n",
        "\n",
        "    #condition for substraction\n",
        "    if sign == '-':\n",
        "      qc.cu1(-rotation,  q_reg1[n], q_reg2[-i-1])\n",
        "\n",
        "    #condition for addition\n",
        "    if sign == '+':\n",
        "      qc.cu1(rotation, q_reg1[n], q_reg2[-i-1])\n"
      ],
      "metadata": {
        "id": "-UVgnFKgrMRq"
      },
      "execution_count": 8,
      "outputs": []
    },
    {
      "cell_type": "code",
      "source": [
        "def inverse_QFT(qc, n, q_reg1):\n",
        "  \"\"\"Function that performs inverse QFT to an n quantum register \n",
        "  by applying repeated rotations and hadamard gates\"\"\"\n",
        "\n",
        "  #apply rotations\n",
        "  for i in range(n):\n",
        "    rotation = - np.pi / (2**(n-i))\n",
        "    qc.cu1(rotation, q_reg1[i], q_reg1[n])\n",
        "\n",
        "  qc.h(q_reg1[n]) #hadamard gates at the end of each qubit rotations"
      ],
      "metadata": {
        "id": "bH34a0eny4YW"
      },
      "execution_count": 9,
      "outputs": []
    },
    {
      "cell_type": "code",
      "source": [
        "def addition_substraction(qc, q_reg1, q_reg2, sign):\n",
        "  \"\"\"Function that adds two quantum registers and stores the results\n",
        "  in the first register\"\"\"\n",
        "\n",
        "  len1 = q_reg1.size  #size of the first register\n",
        "  len2= q_reg2.size   #size of the second register\n",
        "\n",
        "  # Compute the quantum Fourier transform of first register\n",
        "  for i in range(len1):\n",
        "      QFT(qc, len1-i-1, q_reg1)\n",
        "\n",
        "  # Compute the addition of first and second register \n",
        "  # and store result in the first register\n",
        "  for i in range(len1):\n",
        "      modular_addition_substraction(qc, len1-i-1, q_reg1, q_reg2, sign)\n",
        "\n",
        "  # Compute the inverse Fourier transform of first register\n",
        "  for i in range(len1):\n",
        "      inverse_QFT(qc, i, q_reg1)"
      ],
      "metadata": {
        "id": "d-kug-MfCxM1"
      },
      "execution_count": 10,
      "outputs": []
    },
    {
      "cell_type": "markdown",
      "source": [
        "4. Add the multiplier to the accumulator. Decrement the multiplier by one.Repeat until the multiplier is 0. Measure the final output (accumulator)."
      ],
      "metadata": {
        "id": "53W5X5skImV1"
      }
    },
    {
      "cell_type": "code",
      "source": [
        "def multiplier(int1, int2):\n",
        "  \"\"\"\n",
        "  int1 : integer positive value that is the first parameter to the multiplier function,\n",
        "  int2 : integer positive value that is the second parameter to the multiplier function.\n",
        "  Return the positive integer value of the multiplication between number_1 and number_2\n",
        "  \"\"\" \n",
        "\n",
        "\n",
        "  #check for negative numbers\n",
        "  dummy = 1\n",
        "  if abs(int1) != int1 and abs(int2) == int2:\n",
        "    dummy = -1\n",
        "  elif abs(int2) != int2 and abs(int1) == int1:\n",
        "    dummy = -1\n",
        "\n",
        "  #convert to bitstring\n",
        "  bit1, bit2 = convert_to_bitstring(abs(num1), abs(num2))\n",
        "  n = len(bit1)\n",
        "\n",
        "  #create quantum register\n",
        "  accumulator = QuantumRegister(2*n, \"accumulator\")  #stores the final result\n",
        "  multiplier = QuantumRegister(n, \"multiplier\")\n",
        "  multiplicand = QuantumRegister(n, \"multiplicand\")\n",
        "  x = QuantumRegister(1, \"x\")   #quantum register set to substract 1 to the multiplicand\n",
        "  cl = ClassicalRegister(2*n, \"cl\")\n",
        "\n",
        "  #create quantum circuit\n",
        "  qc = QuantumCircuit(accumulator, multiplicand, multiplier, x, cl)\n",
        "\n",
        "  #flip qubit to get the state |1>\n",
        "  qc.x(x[0])\n",
        "\n",
        "  #create quantum states for the multiplier and multiplicand\n",
        "  bitstring_to_quantum_state(qc, multiplier, bit1)\n",
        "  bitstring_to_quantum_state(qc, multiplicand, bit2)\n",
        "\n",
        "  multiplier_2 = '1'\n",
        "  while(int(multiplier_2) != 0):\n",
        "    #add multplicand to the accumulator\n",
        "    addition_substraction(qc, accumulator, multiplicand, '+')\n",
        "    #substract 1 to the multiplier\n",
        "    addition_substraction(qc, multiplier, x, '-')\n",
        "    #measure the multiplier, if it's 0 break the loop, else continue\n",
        "    for i in range(len(multiplier)):\n",
        "      qc.measure(multiplier[i], cl[i])\n",
        "    result = execute(qc, backend=Aer.get_backend('qasm_simulator'), shots=2).result().get_counts(qc.name)\n",
        "\n",
        "    multiplier_2 = list(result.keys())[0]\n",
        "\n",
        "  qc.measure(accumulator, cl)\n",
        "  result = execute(qc, backend=Aer.get_backend('qasm_simulator'),\n",
        "            shots=2).result().get_counts(qc.name)\n",
        "  result = list(result.keys())[0]  \n",
        "  return int(str(result), 2) * dummy\n"
      ],
      "metadata": {
        "id": "P5JsqnRfCppA"
      },
      "execution_count": 40,
      "outputs": []
    },
    {
      "cell_type": "markdown",
      "source": [
        "# Tests"
      ],
      "metadata": {
        "id": "ni7FpF4HIJuD"
      }
    },
    {
      "cell_type": "code",
      "source": [
        "#MULTIPLICATION OF -4 X -4\n",
        "num1 = -4\n",
        "num2= -4\n",
        "\n",
        "bit1, bit2 = convert_to_bitstring(num1, num2)\n",
        "\n",
        "print('Number ' + str(num1) + ' as bitstring is ' + bit1)\n",
        "print('Number ' + str(num2) + ' as bitstring is ' + bit2)\n",
        "\n",
        "result = multiplier(num1, num2)\n",
        "print('The result of multiplying ' + str(num1)+ ' and '+ str(num2)+ ' is '+ str(result))"
      ],
      "metadata": {
        "colab": {
          "base_uri": "https://localhost:8080/"
        },
        "id": "EVvuCet7Frug",
        "outputId": "61d707a3-5e37-4449-e621-29ae1f0660f1"
      },
      "execution_count": 41,
      "outputs": [
        {
          "output_type": "stream",
          "name": "stdout",
          "text": [
            "Number -4 as bitstring is -100\n",
            "Number -4 as bitstring is -100\n"
          ]
        },
        {
          "output_type": "stream",
          "name": "stderr",
          "text": [
            "/usr/local/lib/python3.7/dist-packages/ipykernel_launcher.py:10: DeprecationWarning: The QuantumCircuit.cu1 method is deprecated as of 0.16.0. It will be removed no earlier than 3 months after the release date. You should use the QuantumCircuit.cp method instead, which acts identically.\n",
            "  # Remove the CWD from sys.path while we load stuff.\n",
            "/usr/local/lib/python3.7/dist-packages/ipykernel_launcher.py:26: DeprecationWarning: The QuantumCircuit.cu1 method is deprecated as of 0.16.0. It will be removed no earlier than 3 months after the release date. You should use the QuantumCircuit.cp method instead, which acts identically.\n",
            "/usr/local/lib/python3.7/dist-packages/ipykernel_launcher.py:8: DeprecationWarning: The QuantumCircuit.cu1 method is deprecated as of 0.16.0. It will be removed no earlier than 3 months after the release date. You should use the QuantumCircuit.cp method instead, which acts identically.\n",
            "  \n",
            "/usr/local/lib/python3.7/dist-packages/ipykernel_launcher.py:22: DeprecationWarning: The QuantumCircuit.cu1 method is deprecated as of 0.16.0. It will be removed no earlier than 3 months after the release date. You should use the QuantumCircuit.cp method instead, which acts identically.\n"
          ]
        },
        {
          "output_type": "stream",
          "name": "stdout",
          "text": [
            "The result of multiplying -4 and -4 is 16\n"
          ]
        }
      ]
    },
    {
      "cell_type": "code",
      "source": [
        "#MULTIPLICATION OF 4 X -5\n",
        "num1 = 4\n",
        "num2= -5\n",
        "\n",
        "bit1, bit2 = convert_to_bitstring(num1, num2)\n",
        "\n",
        "print('Number ' + str(num1) + ' as bitstring is ' + bit1)\n",
        "print('Number ' + str(num2) + ' as bitstring is ' + bit2)\n",
        "\n",
        "result = multiplier(num1, num2)\n",
        "print('The result of multiplying ' + str(num1)+ ' and '+ str(num2)+ ' is '+ str(result))"
      ],
      "metadata": {
        "colab": {
          "base_uri": "https://localhost:8080/"
        },
        "id": "edMvibVXFydS",
        "outputId": "ef5a9bd7-6750-4aad-c7ca-7d99d9d4728f"
      },
      "execution_count": 43,
      "outputs": [
        {
          "output_type": "stream",
          "name": "stdout",
          "text": [
            "Number 4 as bitstring is 0100\n",
            "Number -5 as bitstring is -101\n"
          ]
        },
        {
          "output_type": "stream",
          "name": "stderr",
          "text": [
            "/usr/local/lib/python3.7/dist-packages/ipykernel_launcher.py:10: DeprecationWarning: The QuantumCircuit.cu1 method is deprecated as of 0.16.0. It will be removed no earlier than 3 months after the release date. You should use the QuantumCircuit.cp method instead, which acts identically.\n",
            "  # Remove the CWD from sys.path while we load stuff.\n",
            "/usr/local/lib/python3.7/dist-packages/ipykernel_launcher.py:26: DeprecationWarning: The QuantumCircuit.cu1 method is deprecated as of 0.16.0. It will be removed no earlier than 3 months after the release date. You should use the QuantumCircuit.cp method instead, which acts identically.\n",
            "/usr/local/lib/python3.7/dist-packages/ipykernel_launcher.py:8: DeprecationWarning: The QuantumCircuit.cu1 method is deprecated as of 0.16.0. It will be removed no earlier than 3 months after the release date. You should use the QuantumCircuit.cp method instead, which acts identically.\n",
            "  \n",
            "/usr/local/lib/python3.7/dist-packages/ipykernel_launcher.py:22: DeprecationWarning: The QuantumCircuit.cu1 method is deprecated as of 0.16.0. It will be removed no earlier than 3 months after the release date. You should use the QuantumCircuit.cp method instead, which acts identically.\n"
          ]
        },
        {
          "output_type": "stream",
          "name": "stdout",
          "text": [
            "The result of multiplying 4 and -5 is -20\n"
          ]
        }
      ]
    },
    {
      "cell_type": "code",
      "source": [
        "#MULTIPLICATION OF 10 X 5\n",
        "num1 = 10\n",
        "num2= 5\n",
        "\n",
        "bit1, bit2 = convert_to_bitstring(num1, num2)\n",
        "\n",
        "print('Number ' + str(num1) + ' as bitstring is ' + bit1)\n",
        "print('Number ' + str(num2) + ' as bitstring is ' + bit2)\n",
        "\n",
        "result = multiplier(num1, num2)\n",
        "print('The result of multiplying ' + str(num1)+ ' and '+ str(num2)+ ' is '+ str(result))"
      ],
      "metadata": {
        "colab": {
          "base_uri": "https://localhost:8080/"
        },
        "id": "rMyFqJexF1Xk",
        "outputId": "a2eefefe-29d3-4853-a9e7-cb5b9e2def44"
      },
      "execution_count": 44,
      "outputs": [
        {
          "output_type": "stream",
          "name": "stdout",
          "text": [
            "Number 10 as bitstring is 1010\n",
            "Number 5 as bitstring is 0101\n"
          ]
        },
        {
          "output_type": "stream",
          "name": "stderr",
          "text": [
            "/usr/local/lib/python3.7/dist-packages/ipykernel_launcher.py:10: DeprecationWarning: The QuantumCircuit.cu1 method is deprecated as of 0.16.0. It will be removed no earlier than 3 months after the release date. You should use the QuantumCircuit.cp method instead, which acts identically.\n",
            "  # Remove the CWD from sys.path while we load stuff.\n",
            "/usr/local/lib/python3.7/dist-packages/ipykernel_launcher.py:26: DeprecationWarning: The QuantumCircuit.cu1 method is deprecated as of 0.16.0. It will be removed no earlier than 3 months after the release date. You should use the QuantumCircuit.cp method instead, which acts identically.\n",
            "/usr/local/lib/python3.7/dist-packages/ipykernel_launcher.py:8: DeprecationWarning: The QuantumCircuit.cu1 method is deprecated as of 0.16.0. It will be removed no earlier than 3 months after the release date. You should use the QuantumCircuit.cp method instead, which acts identically.\n",
            "  \n",
            "/usr/local/lib/python3.7/dist-packages/ipykernel_launcher.py:22: DeprecationWarning: The QuantumCircuit.cu1 method is deprecated as of 0.16.0. It will be removed no earlier than 3 months after the release date. You should use the QuantumCircuit.cp method instead, which acts identically.\n"
          ]
        },
        {
          "output_type": "stream",
          "name": "stdout",
          "text": [
            "The result of multiplying 10 and 5 is 54\n"
          ]
        }
      ]
    },
    {
      "cell_type": "code",
      "source": [
        "#MULTIPLICATION OF 10 X 100\n",
        "num1 = 10\n",
        "num2= 100\n",
        "\n",
        "bit1, bit2 = convert_to_bitstring(num1, num2)\n",
        "\n",
        "print('Number ' + str(num1) + ' as bitstring is ' + bit1)\n",
        "print('Number ' + str(num2) + ' as bitstring is ' + bit2)\n",
        "\n",
        "result = multiplier(num1, num2)\n",
        "print('The result of multiplying ' + str(num1)+ ' and '+ str(num2)+ ' is '+ str(result))"
      ],
      "metadata": {
        "colab": {
          "base_uri": "https://localhost:8080/",
          "height": 340
        },
        "id": "RC-STtM0F6k0",
        "outputId": "874f9574-d2be-43c9-8585-50b960ee0f99"
      },
      "execution_count": 25,
      "outputs": [
        {
          "output_type": "error",
          "ename": "ValueError",
          "evalue": "ignored",
          "traceback": [
            "\u001b[0;31m---------------------------------------------------------------------------\u001b[0m",
            "\u001b[0;31mValueError\u001b[0m                                Traceback (most recent call last)",
            "\u001b[0;32m<ipython-input-25-e529a7c57d5a>\u001b[0m in \u001b[0;36m<module>\u001b[0;34m\u001b[0m\n\u001b[1;32m      2\u001b[0m \u001b[0mnum2\u001b[0m\u001b[0;34m=\u001b[0m \u001b[0;36m100\u001b[0m\u001b[0;34m\u001b[0m\u001b[0;34m\u001b[0m\u001b[0m\n\u001b[1;32m      3\u001b[0m \u001b[0;34m\u001b[0m\u001b[0m\n\u001b[0;32m----> 4\u001b[0;31m \u001b[0mbit1\u001b[0m\u001b[0;34m,\u001b[0m \u001b[0mbit2\u001b[0m \u001b[0;34m=\u001b[0m \u001b[0mconvert_to_bitstring\u001b[0m\u001b[0;34m(\u001b[0m\u001b[0mnum1\u001b[0m\u001b[0;34m,\u001b[0m \u001b[0mnum2\u001b[0m\u001b[0;34m)\u001b[0m\u001b[0;34m\u001b[0m\u001b[0;34m\u001b[0m\u001b[0m\n\u001b[0m\u001b[1;32m      5\u001b[0m \u001b[0;34m\u001b[0m\u001b[0m\n\u001b[1;32m      6\u001b[0m \u001b[0mprint\u001b[0m\u001b[0;34m(\u001b[0m\u001b[0;34m'Number '\u001b[0m \u001b[0;34m+\u001b[0m \u001b[0mstr\u001b[0m\u001b[0;34m(\u001b[0m\u001b[0mnum1\u001b[0m\u001b[0;34m)\u001b[0m \u001b[0;34m+\u001b[0m \u001b[0;34m' as bitstring is '\u001b[0m \u001b[0;34m+\u001b[0m \u001b[0mbit1\u001b[0m\u001b[0;34m)\u001b[0m\u001b[0;34m\u001b[0m\u001b[0;34m\u001b[0m\u001b[0m\n",
            "\u001b[0;32m<ipython-input-5-e42241e04140>\u001b[0m in \u001b[0;36mconvert_to_bitstring\u001b[0;34m(int1, int2)\u001b[0m\n\u001b[1;32m     10\u001b[0m \u001b[0;34m\u001b[0m\u001b[0m\n\u001b[1;32m     11\u001b[0m   \u001b[0;32mif\u001b[0m \u001b[0mlen1\u001b[0m \u001b[0;34m>\u001b[0m \u001b[0;36m6\u001b[0m \u001b[0;32mor\u001b[0m \u001b[0mlen2\u001b[0m \u001b[0;34m>\u001b[0m \u001b[0;36m6\u001b[0m\u001b[0;34m:\u001b[0m\u001b[0;34m\u001b[0m\u001b[0;34m\u001b[0m\u001b[0m\n\u001b[0;32m---> 12\u001b[0;31m     \u001b[0;32mraise\u001b[0m \u001b[0mValueError\u001b[0m\u001b[0;34m(\u001b[0m\u001b[0;34m'The length of the integers in bit format should be less than 6 digits.'\u001b[0m\u001b[0;34m)\u001b[0m\u001b[0;34m\u001b[0m\u001b[0;34m\u001b[0m\u001b[0m\n\u001b[0m\u001b[1;32m     13\u001b[0m \u001b[0;34m\u001b[0m\u001b[0m\n\u001b[1;32m     14\u001b[0m   \u001b[0;31m#check if both numbers have the same length\u001b[0m\u001b[0;34m\u001b[0m\u001b[0;34m\u001b[0m\u001b[0;34m\u001b[0m\u001b[0m\n",
            "\u001b[0;31mValueError\u001b[0m: The length of the integers in bit format should be less than 6 digits."
          ]
        }
      ]
    },
    {
      "cell_type": "markdown",
      "source": [
        "Very interesting exercise! would have loved to try the 4th one but there was a delay of the email with the exercises so I only got a few days to complete the first one. "
      ],
      "metadata": {
        "id": "8L5yfeymI7f8"
      }
    }
  ]
}